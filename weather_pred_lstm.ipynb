{
  "nbformat": 4,
  "nbformat_minor": 0,
  "metadata": {
    "colab": {
      "name": "weather_pred_lstm.ipynb",
      "provenance": [],
      "collapsed_sections": []
    },
    "kernelspec": {
      "name": "python3",
      "display_name": "Python 3"
    },
    "accelerator": "GPU"
  },
  "cells": [
    {
      "cell_type": "code",
      "metadata": {
        "id": "FUyCNyYOdVHq",
        "colab_type": "code",
        "colab": {}
      },
      "source": [
        "import numpy as np\n",
        "import pandas as pd\n",
        "import sklearn\n",
        "from sklearn.preprocessing import MinMaxScaler\n",
        "import keras"
      ],
      "execution_count": 0,
      "outputs": []
    },
    {
      "cell_type": "code",
      "metadata": {
        "id": "66hP6GmcdhZm",
        "colab_type": "code",
        "colab": {}
      },
      "source": [
        "# reading the data from the dataset\n",
        "data = pd.read_csv(\"dataset.csv\")"
      ],
      "execution_count": 0,
      "outputs": []
    },
    {
      "cell_type": "code",
      "metadata": {
        "id": "4NR7S9n9g2Zy",
        "colab_type": "code",
        "colab": {}
      },
      "source": [
        "#keeping only the temperature column on the data\n",
        "data =  data.drop(data.iloc[:,0:11].columns, axis = 1)\n",
        "data = data.drop(data.iloc[:,1:].columns,axis =1)"
      ],
      "execution_count": 0,
      "outputs": []
    },
    {
      "cell_type": "code",
      "metadata": {
        "id": "NIigOYvyh7oF",
        "colab_type": "code",
        "colab": {}
      },
      "source": [
        "data = data.rename(columns={data.columns[0]: \"temperature(C)\"})\n",
        "data = data.dropna(axis=0) # making sure null values are removed\n",
        "data= data.reset_index(drop=True)\n",
        "# training data with 90991 data points\n",
        "training_data = data.iloc[: 90991]\n",
        "# testing data with 10000 data points\n",
        "testing_data = data.iloc[90991:]"
      ],
      "execution_count": 0,
      "outputs": []
    },
    {
      "cell_type": "code",
      "metadata": {
        "id": "vffA-q1sizFF",
        "colab_type": "code",
        "colab": {}
      },
      "source": [
        "#Normalizing the data\n",
        "scaler = MinMaxScaler(feature_range=(0,1))\n",
        "training_data_normalized = scaler.fit_transform(training_data)"
      ],
      "execution_count": 0,
      "outputs": []
    },
    {
      "cell_type": "code",
      "metadata": {
        "id": "ZuNPGAB7iz7C",
        "colab_type": "code",
        "colab": {}
      },
      "source": [
        "X_train = []\n",
        "y_train = []\n",
        "next_days = 4 # next 4 days temperature forecast\n",
        "past_days = 30 # Past 30 days \n",
        "for i in range(0,len(training_data_normalized)-past_days-next_days+1):\n",
        "    X_train.append(training_data_normalized[i : i + past_days , 0])     \n",
        "    y_train.append(training_data_normalized[i + past_days : i + past_days + next_days , 0 ])"
      ],
      "execution_count": 0,
      "outputs": []
    },
    {
      "cell_type": "code",
      "metadata": {
        "id": "mLuIh3vdXNTh",
        "colab_type": "code",
        "colab": {}
      },
      "source": [
        "X_train , y_train = np.array(X_train), np.array(y_train)\n",
        "X_train = np.reshape(X_train, (X_train.shape[0] , X_train.shape[1], 1) )"
      ],
      "execution_count": 0,
      "outputs": []
    },
    {
      "cell_type": "markdown",
      "metadata": {
        "id": "vg1UwkljuBrN",
        "colab_type": "text"
      },
      "source": [
        "# Traning for 35 Epochs"
      ]
    },
    {
      "cell_type": "code",
      "metadata": {
        "id": "TOKUomG6t-85",
        "colab_type": "code",
        "outputId": "4732ecdb-6219-447e-a9ff-eda5e33985f1",
        "colab": {
          "base_uri": "https://localhost:8080/",
          "height": 191
        }
      },
      "source": [
        "from keras.models import Sequential\n",
        "from keras.layers import LSTM,Dense ,Dropout\n",
        "\n",
        "model = Sequential()\n",
        "model.add(LSTM(units=30, input_shape = (X_train.shape[1],1)))\n",
        "model.add(Dense(units = next_days,activation='softmax'))\n",
        "model.compile(optimizer='adam', loss='mean_squared_error',metrics=['acc'])\n",
        "history = model.fit(X_train, y_train, epochs=35,batch_size=100 )\n"
      ],
      "execution_count": 0,
      "outputs": [
        {
          "output_type": "stream",
          "text": [
            "Epoch 1/5\n",
            "90958/90958 [==============================] - 51s 564us/step - loss: 0.0097 - acc: 0.4456\n",
            "Epoch 2/5\n",
            "90958/90958 [==============================] - 51s 555us/step - loss: 0.0095 - acc: 0.5526\n",
            "Epoch 3/5\n",
            "90958/90958 [==============================] - 51s 564us/step - loss: 0.0095 - acc: 0.5756\n",
            "Epoch 4/5\n",
            "90958/90958 [==============================] - 49s 543us/step - loss: 0.0094 - acc: 0.5813\n",
            "Epoch 5/5\n",
            "90958/90958 [==============================] - 49s 534us/step - loss: 0.0094 - acc: 0.5962\n"
          ],
          "name": "stdout"
        }
      ]
    },
    {
      "cell_type": "code",
      "metadata": {
        "id": "K96mC9ZjIKwf",
        "colab_type": "code",
        "outputId": "845b4da3-6639-4b77-9c1f-271e1da718ec",
        "colab": {
          "base_uri": "https://localhost:8080/",
          "height": 573
        }
      },
      "source": [
        "#Plotting testing accuracy and loss\n",
        "import matplotlib.pyplot as plt\n",
        "plt.plot(history.history['acc'])\n",
        "plt.title('Training accuracy vs epochs with alpha = 0.01')\n",
        "plt.ylabel('Accuracy')\n",
        "plt.xlabel('Epoch')\n",
        "plt.show()\n",
        "\n",
        "#Plotting training accuracy and loss\n",
        "plt.plot(history.history['loss'])\n",
        "plt.title('Training Loss vs epochs for alpha = 0.01')\n",
        "plt.ylabel('Loss')\n",
        "plt.xlabel('Epochs')\n",
        "plt.show()"
      ],
      "execution_count": 0,
      "outputs": [
        {
          "output_type": "display_data",
          "data": {
            "image/png": "[encoded data removed]",
            "text/plain": [
              "<Figure size 432x288 with 1 Axes>"
            ]
          },
          "metadata": {
            "tags": [],
            "needs_background": "light"
          }
        },
        {
          "output_type": "display_data",
          "data": {
            "image/png": "[encoded data removed]",
            "text/plain": [
              "<Figure size 432x288 with 1 Axes>"
            ]
          },
          "metadata": {
            "tags": [],
            "needs_background": "light"
          }
        }
      ]
    },
    {
      "cell_type": "code",
      "metadata": {
        "id": "sydTXRWgSzeL",
        "colab_type": "code",
        "outputId": "9ddfe398-d980-43c4-9bbb-13664fe16dba",
        "colab": {
          "base_uri": "https://localhost:8080/",
          "height": 52
        }
      },
      "source": [
        "print(f\"Training accuracy 35 epochs lr 0.001: {history.history['acc'][-1] * 100} \" )\n",
        "print(f\"Training loss 35 epochs lr 0.001: {history.history['loss'][-1]} \" )"
      ],
      "execution_count": 0,
      "outputs": [
        {
          "output_type": "stream",
          "text": [
            "Training accuracy 35 epochs lr 0.001: 59.617626667022705 \n",
            "Training loss 35 epochs lr 0.001: 0.009423172967068771 \n"
          ],
          "name": "stdout"
        }
      ]
    },
    {
      "cell_type": "markdown",
      "metadata": {
        "id": "jkcaqlJ5Yd72",
        "colab_type": "text"
      },
      "source": [
        "### Testing the model"
      ]
    },
    {
      "cell_type": "code",
      "metadata": {
        "id": "3STIvvSCYgt4",
        "colab_type": "code",
        "colab": {}
      },
      "source": [
        "# Normalizing and reshaping the test data\n",
        "testing = testing_data[:30].values\n",
        "y_test = testing_data[30:34].values\n",
        "\n",
        "x_test = scaler.transform(testing)\n",
        "x_test = np.array(x_test)\n",
        "x_test = np.reshape(x_test,(x_test.shape[1],x_test.shape[0],1))\n",
        "\n",
        "y_test = scaler.transform(y_test)\n",
        "y_test = np.array(y_test)\n",
        "y_test = np.reshape(y_test,(y_test.shape[1],y_test.shape[0]))\n"
      ],
      "execution_count": 0,
      "outputs": []
    },
    {
      "cell_type": "code",
      "metadata": {
        "id": "_CVlgcToYw-a",
        "colab_type": "code",
        "outputId": "018453f3-0040-49b7-f19c-efefb606118d",
        "colab": {
          "base_uri": "https://localhost:8080/",
          "height": 52
        }
      },
      "source": [
        "# Evaluating the model on test data\n",
        "score = model.evaluate(x_testing , y_test, verbose=0)\n",
        "print('Test loss:', score[0])\n",
        "print('Test accuracy:', score[1])"
      ],
      "execution_count": 0,
      "outputs": [
        {
          "output_type": "stream",
          "text": [
            "Test loss: 0.0029748021624982357\n",
            "Test accuracy: 1.0\n"
          ],
          "name": "stdout"
        }
      ]
    },
    {
      "cell_type": "markdown",
      "metadata": {
        "id": "eLD_4vOBtt6-",
        "colab_type": "text"
      },
      "source": [
        "# Training for 20 Epochs"
      ]
    },
    {
      "cell_type": "code",
      "metadata": {
        "id": "LPYcp01GjUV0",
        "colab_type": "code",
        "outputId": "15497710-89fb-4d7b-c850-38a0ed731fd3",
        "colab": {
          "base_uri": "https://localhost:8080/",
          "height": 364
        }
      },
      "source": [
        "#LSTM Model training with 20 epochs\n",
        "model_20 = Sequential()\n",
        "model_20.add(LSTM(units=30, input_shape = (X_train.shape[1],1) ) )\n",
        "model_20.add(Dense(units = next_days,activation='softmax'))\n",
        "model_20.compile(optimizer='adam', loss='mean_squared_error',metrics=['acc'])\n",
        "history_20 = model.fit(X_train, y_train, epochs= 20,batch_size=100 )\n"
      ],
      "execution_count": 0,
      "outputs": [
        {
          "output_type": "stream",
          "text": [
            "Epoch 1/10\n",
            "90958/90958 [==============================] - 48s 528us/step - loss: 0.0094 - acc: 0.6078\n",
            "Epoch 2/10\n",
            "90958/90958 [==============================] - 48s 525us/step - loss: 0.0094 - acc: 0.6095\n",
            "Epoch 3/10\n",
            "90958/90958 [==============================] - 48s 527us/step - loss: 0.0094 - acc: 0.6130\n",
            "Epoch 4/10\n",
            "90958/90958 [==============================] - 47s 520us/step - loss: 0.0094 - acc: 0.6162\n",
            "Epoch 5/10\n",
            "90958/90958 [==============================] - 48s 525us/step - loss: 0.0094 - acc: 0.6187\n",
            "Epoch 6/10\n",
            "90958/90958 [==============================] - 47s 518us/step - loss: 0.0094 - acc: 0.6190\n",
            "Epoch 7/10\n",
            "90958/90958 [==============================] - 48s 526us/step - loss: 0.0094 - acc: 0.6234\n",
            "Epoch 8/10\n",
            "90958/90958 [==============================] - 48s 524us/step - loss: 0.0094 - acc: 0.6253\n",
            "Epoch 9/10\n",
            "90958/90958 [==============================] - 47s 522us/step - loss: 0.0094 - acc: 0.6301\n",
            "Epoch 10/10\n",
            "90958/90958 [==============================] - 47s 521us/step - loss: 0.0094 - acc: 0.6326\n"
          ],
          "name": "stdout"
        }
      ]
    },
    {
      "cell_type": "code",
      "metadata": {
        "id": "fxDccjs2aqPg",
        "colab_type": "code",
        "outputId": "c33e2e4e-52c0-4b80-d406-322a3d23aa1b",
        "colab": {
          "base_uri": "https://localhost:8080/",
          "height": 295
        }
      },
      "source": [
        "#Plotting training accuracy vs epochs\n",
        "import matplotlib.pyplot as plt\n",
        "plt.plot(history_20.history['acc'])\n",
        "plt.title('Training accuracy vs epochs with alpha = 0.001')\n",
        "plt.ylabel('Accuracy')\n",
        "plt.xlabel('Epoch')\n",
        "plt.show()"
      ],
      "execution_count": 0,
      "outputs": [
        {
          "output_type": "display_data",
          "data": {
            "image/png": "[encoded data removed]",
            "text/plain": [
              "<Figure size 432x288 with 1 Axes>"
            ]
          },
          "metadata": {
            "tags": [],
            "needs_background": "light"
          }
        }
      ]
    },
    {
      "cell_type": "code",
      "metadata": {
        "id": "sELNniiSiUje",
        "colab_type": "code",
        "outputId": "c4436573-b1b6-405c-9c74-364d6d40ad73",
        "colab": {
          "base_uri": "https://localhost:8080/",
          "height": 295
        }
      },
      "source": [
        "#Plotting training loss vs epochs\n",
        "import matplotlib.pyplot as plt\n",
        "plt.plot(history_20.history['loss'])\n",
        "plt.title('Training Loss vs epochs for alpha = 0.001')\n",
        "plt.ylabel('Loss')\n",
        "plt.xlabel('Epochs')\n",
        "plt.show()"
      ],
      "execution_count": 0,
      "outputs": [
        {
          "output_type": "display_data",
          "data": {
            "image/png": "[encoded data removed]",
            "text/plain": [
              "<Figure size 432x288 with 1 Axes>"
            ]
          },
          "metadata": {
            "tags": [],
            "needs_background": "light"
          }
        }
      ]
    },
    {
      "cell_type": "markdown",
      "metadata": {
        "id": "Z5sRlrcToveI",
        "colab_type": "text"
      },
      "source": [
        "#Testing"
      ]
    },
    {
      "cell_type": "code",
      "metadata": {
        "id": "4VMbSguiouIP",
        "colab_type": "code",
        "outputId": "55fa8e3d-58af-4b2a-8bb7-a59d5cdea690",
        "colab": {
          "base_uri": "https://localhost:8080/",
          "height": 52
        }
      },
      "source": [
        "# Evaluating the model on test data\n",
        "score_20 = model_20.evaluate(x_testing , y_test, verbose=0)\n",
        "print('Test loss:', score_20[0])\n",
        "print('Test accuracy:', score_20[1])"
      ],
      "execution_count": 0,
      "outputs": [
        {
          "output_type": "stream",
          "text": [
            "Test loss: 0.003754070959985256\n",
            "Test accuracy: 0.0\n"
          ],
          "name": "stdout"
        }
      ]
    }
  ]
}